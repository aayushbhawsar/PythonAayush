{
  "nbformat": 4,
  "nbformat_minor": 0,
  "metadata": {
    "colab": {
      "name": "Untitled0.ipynb",
      "provenance": [],
      "include_colab_link": true
    },
    "kernelspec": {
      "name": "python3",
      "display_name": "Python 3"
    }
  },
  "cells": [
    {
      "cell_type": "markdown",
      "metadata": {
        "id": "view-in-github",
        "colab_type": "text"
      },
      "source": [
        "<a href=\"https://colab.research.google.com/github/aayushbhawsar/PythonAayush/blob/master/pythonbasic.ipynb\" target=\"_parent\"><img src=\"https://colab.research.google.com/assets/colab-badge.svg\" alt=\"Open In Colab\"/></a>"
      ]
    },
    {
      "cell_type": "code",
      "metadata": {
        "id": "Te0DWK5a6Y_e",
        "colab_type": "code",
        "colab": {}
      },
      "source": [
        "32 % 10\n"
      ],
      "execution_count": null,
      "outputs": []
    },
    {
      "cell_type": "code",
      "metadata": {
        "id": "YGGgqt-U6fnJ",
        "colab_type": "code",
        "colab": {}
      },
      "source": [
        "z = 1 + 3 * 2 - 8 / 4 \n",
        "print(z)"
      ],
      "execution_count": null,
      "outputs": []
    },
    {
      "cell_type": "code",
      "metadata": {
        "id": "OEUVLTCP6uVv",
        "colab_type": "code",
        "colab": {}
      },
      "source": [
        "x = int(89.7) \n",
        "print(x)"
      ],
      "execution_count": null,
      "outputs": []
    },
    {
      "cell_type": "code",
      "metadata": {
        "id": "f-Ip7N_E6_7Y",
        "colab_type": "code",
        "colab": {}
      },
      "source": [
        " x = 0/1\n",
        " int(89.7)\n",
        " print(x)"
      ],
      "execution_count": null,
      "outputs": []
    },
    {
      "cell_type": "code",
      "metadata": {
        "id": "pfzMPDhA9kvn",
        "colab_type": "code",
        "colab": {}
      },
      "source": [
        "Days = input('Enter number of Days')\n",
        "\n",
        "Rate = input('Enter rate per Day')\n",
        "\n",
        "TotalPay = float(Days)*float(Rate)\n",
        "print('Total Pay:', TotalPay) "
      ],
      "execution_count": null,
      "outputs": []
    },
    {
      "cell_type": "code",
      "metadata": {
        "id": "jvhEO9g7GZ-7",
        "colab_type": "code",
        "colab": {}
      },
      "source": [
        "num=float(input(\"Enter the number\"))\n",
        "if num > 0:\n",
        "  print(\"positive number\")\n",
        "elif num < 0:\n",
        "  print(\"negative number\")\n",
        "else:\n",
        "  print(\"zero\")\n",
        "\n",
        "\n",
        "\n"
      ],
      "execution_count": null,
      "outputs": []
    },
    {
      "cell_type": "code",
      "metadata": {
        "id": "XoLSeKNjKc_t",
        "colab_type": "code",
        "colab": {}
      },
      "source": [
        "#try except\n",
        "num=input(\"Enter a number\")\n",
        "try:\n",
        "  val=int(num)\n",
        "  print (\"conersion successful\")\n",
        "except:\n",
        "  val=-1\n",
        "\n",
        "if val > 0:\n",
        "  print(\"number is \",val)\n",
        "else:\n",
        "  print(\"not a positve number\") "
      ],
      "execution_count": null,
      "outputs": []
    },
    {
      "cell_type": "code",
      "metadata": {
        "id": "yrVhKCHbKdqv",
        "colab_type": "code",
        "colab": {}
      },
      "source": [
        "#try except\n",
        "#num=input(\"Enter a number\")\n",
        "try:\n",
        "  val=4/2\n",
        "  print (\"division successful\")\n",
        "except:\n",
        "  val=-1\n",
        "\n",
        "if val > 0:\n",
        "  print(\"answer is \",val)\n",
        "else:\n",
        "  print(\"can't divide by zero\") "
      ],
      "execution_count": null,
      "outputs": []
    },
    {
      "cell_type": "code",
      "metadata": {
        "id": "G7LuJ6KvKd0W",
        "colab_type": "code",
        "colab": {}
      },
      "source": [
        "xh = input(\"Enter Days:\")\n",
        "xr = input(\"Enter Rate:\")\n",
        "try:\n",
        "  fh = float(xh)\n",
        "  fr = float(xr)\n",
        "except:\n",
        "  print(\"Error, please enter numeric input\")\n",
        "\n",
        "TotalPay = float(xh)*float(xr)\n",
        "print('Total Pay:', TotalPay) "
      ],
      "execution_count": null,
      "outputs": []
    },
    {
      "cell_type": "code",
      "metadata": {
        "id": "q6zmQuEPKd7d",
        "colab_type": "code",
        "colab": {}
      },
      "source": [
        ""
      ],
      "execution_count": null,
      "outputs": []
    },
    {
      "cell_type": "code",
      "metadata": {
        "id": "LlIO6fncKd-9",
        "colab_type": "code",
        "colab": {}
      },
      "source": [
        "#even and odd using function\n",
        "def evenodd(num):\n",
        "  if num==0:\n",
        "    print(\"Number is zero\")\n",
        "  elif num%2==0:\n",
        "    print(\"Number is even\")\n",
        "  else:\n",
        "      print(\"Number is odd\")\n",
        "\n",
        "evenodd(int(input(\"Enter the number\")))"
      ],
      "execution_count": null,
      "outputs": []
    },
    {
      "cell_type": "code",
      "metadata": {
        "id": "GOdeja1QKeEf",
        "colab_type": "code",
        "colab": {}
      },
      "source": [
        ""
      ],
      "execution_count": null,
      "outputs": []
    },
    {
      "cell_type": "code",
      "metadata": {
        "id": "oBvKk4bVKeH1",
        "colab_type": "code",
        "colab": {}
      },
      "source": [
        "#function with return value\n",
        "def greet():\n",
        "  return \"Hello\"\n",
        "print(greet(),\"Aayush\")\n",
        "print(greet(),\"ram\")"
      ],
      "execution_count": null,
      "outputs": []
    },
    {
      "cell_type": "code",
      "metadata": {
        "id": "DtHxfkWkqjd6",
        "colab_type": "code",
        "colab": {}
      },
      "source": [
        "#function with multiple parameter\n",
        "def add(a,b):\n",
        "  return a+b\n",
        "add(3,3)"
      ],
      "execution_count": null,
      "outputs": []
    },
    {
      "cell_type": "code",
      "metadata": {
        "id": "QQEBxn5jqjh1",
        "colab_type": "code",
        "colab": {}
      },
      "source": [
        "def greet():\n",
        "  print (\"Hello\")\n",
        "\n",
        "  return\n",
        "\n",
        "  print (\"Hello1\")\n",
        "\n",
        "greet()\n",
        "\n",
        "\n"
      ],
      "execution_count": null,
      "outputs": []
    },
    {
      "cell_type": "code",
      "metadata": {
        "id": "TzU5fFkusuCA",
        "colab_type": "code",
        "colab": {}
      },
      "source": [
        "def say(message,time =1):\n",
        "  print(message* time)\n",
        "say(\"aayush\")\n",
        "say(\"good\",5)"
      ],
      "execution_count": null,
      "outputs": []
    },
    {
      "cell_type": "code",
      "metadata": {
        "id": "FNzbpyGTtkDf",
        "colab_type": "code",
        "colab": {}
      },
      "source": [
        "def computeTotalpay(Days,Rate):\n",
        "  TotalPay = float(Days)*float(Rate)\n",
        "  print('Total Pay:', TotalPay)\n",
        "\n",
        "computeTotalpay(45,10) "
      ],
      "execution_count": null,
      "outputs": []
    },
    {
      "cell_type": "code",
      "metadata": {
        "id": "N_feoTI8uTFf",
        "colab_type": "code",
        "colab": {
          "base_uri": "https://localhost:8080/",
          "height": 68
        },
        "outputId": "a0c1dce8-de25-4382-f4ef-0f2c5b0bdf5c"
      },
      "source": [
        "def computepay(hour, rate):\n",
        "    pay = hour * rate\n",
        "    return pay\n",
        "\n",
        "xh = input(\"Enter Hours:\")\n",
        "\n",
        "xr = input(\"Enter Rate:\")\n",
        "\n",
        "\n",
        "try:\n",
        "    fh = float(xh)\n",
        "    fr = float(xr)\n",
        "\n",
        "    print(\"Pay: \",computepay(fh,fr))\n",
        "except:\n",
        "    print(\"Error, please enter numeric input\") "
      ],
      "execution_count": 15,
      "outputs": [
        {
          "output_type": "stream",
          "text": [
            "Enter Hours:55\n",
            "Enter Rate:3\n",
            "Pay:  165.0\n"
          ],
          "name": "stdout"
        }
      ]
    },
    {
      "cell_type": "code",
      "metadata": {
        "id": "MAi9S6DjDxiy",
        "colab_type": "code",
        "colab": {}
      },
      "source": [
        "#while loop\n",
        "count=0\n",
        "while (count<=5):\n",
        "  print(\"Aayush\")\n",
        "  count=count+1\n",
        "  \n"
      ],
      "execution_count": null,
      "outputs": []
    },
    {
      "cell_type": "code",
      "metadata": {
        "id": "hQ6cOdHTDxmo",
        "colab_type": "code",
        "colab": {}
      },
      "source": [
        "#break\n",
        "while True:\n",
        "  line=input(\"Enter the data\")\n",
        "  if line == 'done':\n",
        "    break\n",
        "  print(\"line\")\n",
        "print(\"Done!\")"
      ],
      "execution_count": null,
      "outputs": []
    },
    {
      "cell_type": "code",
      "metadata": {
        "id": "60sNbnINDxtI",
        "colab_type": "code",
        "colab": {}
      },
      "source": [
        "#continue\n",
        "while True:\n",
        "  line=input(\"Enter the data\")\n",
        "  if line[0]=='#':\n",
        "    continue\n",
        "  if line == 'done':\n",
        "    break\n",
        "  print(\"line\")\n",
        "print(\"Done!\")"
      ],
      "execution_count": null,
      "outputs": []
    },
    {
      "cell_type": "code",
      "metadata": {
        "id": "0sXLCh7kDx-e",
        "colab_type": "code",
        "colab": {}
      },
      "source": [
        "#for loop\n",
        "I=[\"aayush\",\"Shadab\",\"aamir\"]\n",
        "for i in I:\n",
        "  print(i)"
      ],
      "execution_count": null,
      "outputs": []
    },
    {
      "cell_type": "code",
      "metadata": {
        "id": "DGlTOqGADx65",
        "colab_type": "code",
        "colab": {}
      },
      "source": [
        "#find the largest number\n",
        "large = -1\n",
        "I=[1,2,3,4,5,6,7,8,9]\n",
        "for num in I:\n",
        "  if num > large:\n",
        "    large=num\n",
        "print(large)"
      ],
      "execution_count": null,
      "outputs": []
    },
    {
      "cell_type": "code",
      "metadata": {
        "id": "tgPBaI2yDx5A",
        "colab_type": "code",
        "colab": {}
      },
      "source": [
        "#count element in th list\n",
        "count= 0\n",
        "I=[1,2,3,4,5,6,7,8,9]\n",
        "for num in I:\n",
        "  count=count+1\n",
        "print(count)"
      ],
      "execution_count": null,
      "outputs": []
    },
    {
      "cell_type": "code",
      "metadata": {
        "id": "wEIvupmODx2P",
        "colab_type": "code",
        "colab": {}
      },
      "source": [
        "#sum the elements in the list\n",
        "count= 0\n",
        "sum=0\n",
        "I=[1,2,3,4,5,6,7,8,9]\n",
        "for num in I:\n",
        "  sum=sum + num\n",
        "  count=count+1\n",
        "print(sum)\n",
        "  "
      ],
      "execution_count": null,
      "outputs": []
    },
    {
      "cell_type": "code",
      "metadata": {
        "id": "u3k2mXakDxzY",
        "colab_type": "code",
        "colab": {}
      },
      "source": [
        "#Average of the elements in the list\n",
        "count= 0\n",
        "sum=0\n",
        "I=[1,2,3,4,5,6,7,8,9]\n",
        "for num in I:\n",
        "  sum=sum + num\n",
        "  average=sum/len(I)\n",
        "  count=count+1\n",
        "print(sum)\n",
        "print(average)\n",
        "  \n"
      ],
      "execution_count": null,
      "outputs": []
    },
    {
      "cell_type": "code",
      "metadata": {
        "id": "zY3SfJaQDxrk",
        "colab_type": "code",
        "colab": {}
      },
      "source": [
        "#filtering in a loop\n",
        "I=[1,2,3,4,5,6,7,8,9]\n",
        "for num in I:\n",
        "  if num>5:\n",
        "    print(num)"
      ],
      "execution_count": null,
      "outputs": []
    },
    {
      "cell_type": "code",
      "metadata": {
        "id": "S5Kr1gYiVj5D",
        "colab_type": "code",
        "colab": {}
      },
      "source": [
        "#searching in a loop\n",
        "I=[1,2,3,4,5,6,7,8,9]\n",
        "for num in I:\n",
        "  if num==5:\n",
        "    print(\"found\")\n",
        "  else:\n",
        "      print(\"not found\")"
      ],
      "execution_count": null,
      "outputs": []
    },
    {
      "cell_type": "code",
      "metadata": {
        "id": "kClK9UROW31l",
        "colab_type": "code",
        "colab": {}
      },
      "source": [
        "#finding the smallest value\n",
        "small=None\n",
        "I=[1,2,3,4,5,6,7,8,9]\n",
        "for num in I:\n",
        "  if small==None:\n",
        "    small=num\n",
        "  elif num < small:\n",
        "    small=num\n",
        "print(small)"
      ],
      "execution_count": null,
      "outputs": []
    },
    {
      "cell_type": "code",
      "metadata": {
        "id": "1XcLkqqHVkB4",
        "colab_type": "code",
        "colab": {}
      },
      "source": [
        "#Write a program which repeatedly reads numbers until the user enters \"exit\". Once \"exit\" is entered, print out the sum, count, and average of the numbers. If the user enters anything other than a number, detect their mistake using try and except and print an error message and skip to the next number. Enter a number: 4 Enter a number: 5 Enter a number: bad data Invalid input Enter a number: exit 9.0 2 4.5\n",
        "\n",
        "sum=0\n",
        "count=0 \n",
        "while True: \n",
        "  num=input('Enter Number: ') \n",
        "  if num=='exit': \n",
        "    break \n",
        "  try: \n",
        "    x=float(num) \n",
        "  except: \n",
        "    print('Data Invalid Input')\n",
        "    continue\n",
        "  count=count+1\n",
        "  sum=sum+x  \n",
        "print('Sum= ',sum) \n",
        "print('Count= ',count) \n",
        "print('Average= ',sum/count)\n",
        "\n"
      ],
      "execution_count": null,
      "outputs": []
    },
    {
      "cell_type": "code",
      "metadata": {
        "id": "a1IIwjR1VkAO",
        "colab_type": "code",
        "colab": {}
      },
      "source": [
        "#Python Program for factorial of a number\n",
        "num = int(input(\"Enter the number\"))\n",
        "fact = 1\n",
        "if num<= 0:\n",
        "   print(\"no factorial of zero and negative number\")\n",
        "else:\n",
        "   for i in range(1,num + 1):\n",
        "       fact = fact*i\n",
        "print(fact)"
      ],
      "execution_count": null,
      "outputs": []
    },
    {
      "cell_type": "code",
      "metadata": {
        "id": "AxtwlMgpVj94",
        "colab_type": "code",
        "colab": {}
      },
      "source": [
        "# Python Program for simple interest\n",
        "def simpleinterest():\n",
        "  SI=principle*rate*time/100\n",
        "  return SI\n",
        "\n",
        "\n",
        "p = input(\"Enter the principle\")\n",
        "r = input(\"Enter the rate\")\n",
        "t = input(\"Enter the time\")\n",
        "try:\n",
        "  principle=float (p)\n",
        "  rate=float (r)\n",
        "  time=float (t)\n",
        "  print(simpleinterest())\n",
        "except:\n",
        "  print(\"something wrong with data\")\n",
        "\n",
        "\n",
        "  \n"
      ],
      "execution_count": null,
      "outputs": []
    },
    {
      "cell_type": "code",
      "metadata": {
        "id": "RdGyZwX_Vj24",
        "colab_type": "code",
        "colab": {}
      },
      "source": [
        "#Python Program for compound interest\n",
        "def compoundinterest():\n",
        "  SI=principle * (pow((1 + rate / 100), time))\n",
        "  return SI\n",
        "\n",
        "\n",
        "p = input(\"Enter the principle\")\n",
        "r = input(\"Enter the rate\")\n",
        "t = input(\"Enter the time\")\n",
        "try:\n",
        "  principle=float (p)\n",
        "  rate=float (r)\n",
        "  time=float (t)\n",
        "  print(compoundinterest())\n",
        "except:\n",
        "  print(\"data is wrong\")"
      ],
      "execution_count": null,
      "outputs": []
    },
    {
      "cell_type": "code",
      "metadata": {
        "id": "r77xOEMdVj0O",
        "colab_type": "code",
        "colab": {}
      },
      "source": [
        " #Python Program to check Armstrong Number\n",
        "num = int(input(\"Enter a number: \"))\n",
        "sum = 0\n",
        "temp = num\n",
        "while temp > 0:\n",
        "   digit = temp % 10\n",
        "   sum =sum +digit ** 3\n",
        "   temp //= 10\n",
        "\n",
        "if num == sum:\n",
        "   print(num,\"is an Armstrong number\")\n",
        "else:\n",
        "   print(num,\"is not an Armstrong number\")\n"
      ],
      "execution_count": null,
      "outputs": []
    },
    {
      "cell_type": "code",
      "metadata": {
        "id": "gx5sXcf7VjxN",
        "colab_type": "code",
        "colab": {}
      },
      "source": [
        "#Python Program to Find Armstrong Number in an give range\n",
        "lower = 100\n",
        "upper = 2000\n",
        "\n",
        "for num in range(lower, upper + 1):\n",
        "  order = len(str(num))\n",
        "  sum = 0\n",
        "  temp = num\n",
        "  while temp > 0:\n",
        "    digit = temp % 10\n",
        "    sum += digit ** order\n",
        "    temp //= 10\n",
        "  if num == sum:\n",
        "    print(num)"
      ],
      "execution_count": null,
      "outputs": []
    },
    {
      "cell_type": "code",
      "metadata": {
        "id": "xQk1VAnFVju4",
        "colab_type": "code",
        "colab": {}
      },
      "source": [
        "#Python program to print all Prime numbers in an Interval\n",
        "lower = 2\n",
        "upper = 50\n",
        "for num in range(lower, upper ):\n",
        "  if num > 1:\n",
        "    for i in range(2,num):\n",
        "       if (num % i) == 0:\n",
        "         print(num,\"is not a prime number\")\n",
        "         break\n",
        "    else:\n",
        "          print(num,\"is a prime number\")\n",
        "       "
      ],
      "execution_count": null,
      "outputs": []
    },
    {
      "cell_type": "code",
      "metadata": {
        "id": "MIGqu6kSVjr8",
        "colab_type": "code",
        "colab": {}
      },
      "source": [
        "#Python program to check whether a number is Prime or not\n",
        "num=int(input(\"Enter the number\"))\n",
        "if num > 1:\n",
        "    for i in range(2,num):\n",
        "       if (num % i) == 0:\n",
        "         print(num,\"is not a prime number\")\n",
        "         break\n",
        "    else:\n",
        "          print(num,\"is a prime number\")\n"
      ],
      "execution_count": null,
      "outputs": []
    },
    {
      "cell_type": "code",
      "metadata": {
        "id": "l8bOAYz5hZwe",
        "colab_type": "code",
        "colab": {}
      },
      "source": [
        "#Python Program for n-th Fibonacci number using recursion wrong\n",
        "def fib(num):\n",
        "  if num <= 1:\n",
        "    return num\n",
        "  else:\n",
        "    return(fib(num-1)+fib(num-2))\n",
        "n1=(int(input(\"Enter the number\")\n",
        "if n <= 0:\n",
        "  print(\"please enter positive number\")\n",
        "else:\n",
        "    for i in range(n1):\n",
        "      print(fib(i))\n",
        " \n",
        "\n",
        "\n"
      ],
      "execution_count": null,
      "outputs": []
    },
    {
      "cell_type": "code",
      "metadata": {
        "id": "h0uQlsmxny3n",
        "colab_type": "code",
        "colab": {}
      },
      "source": [
        "#Python Program for n-th Fibonacci number using recursion right\n",
        "def recur_fibo(n):  \n",
        "   if n <= 1:  \n",
        "       return n  \n",
        "   else:  \n",
        "       return(recur_fibo(n-1) + recur_fibo(n-2))  \n",
        "# take input from the user  \n",
        "nterms = int(input(\"How many terms? \"))  \n",
        "# check if the number of terms is valid  \n",
        "if nterms <= 0:  \n",
        "   print(\"Plese enter a positive integer\")  \n",
        "else:  \n",
        "   print(\"Fibonacci sequence:\")  \n",
        "   for i in range(nterms):  \n",
        "       print(recur_fibo(i))"
      ],
      "execution_count": null,
      "outputs": []
    },
    {
      "cell_type": "code",
      "metadata": {
        "id": "o-UYTABLlRxq",
        "colab_type": "code",
        "colab": {}
      },
      "source": [
        "# Program to display the Fibonacci sequence up to n-th term\n",
        "\n",
        "nterms = int(input(\"How many terms? \"))\n",
        "\n",
        "# first two terms\n",
        "n1, n2 = 0, 1\n",
        "count = 0\n",
        "\n",
        "# check if the number of terms is valid\n",
        "if nterms <= 0:\n",
        "   print(\"Please enter a positive integer\")\n",
        "elif nterms == 1:\n",
        "   print(\"Fibonacci sequence upto\",nterms,\":\")\n",
        "   print(n1)\n",
        "else:\n",
        "   print(\"Fibonacci sequence:\")\n",
        "   while count < nterms:\n",
        "       print(n1)\n",
        "       nth = n1 + n2\n",
        "       # update values\n",
        "       n1 = n2\n",
        "       n2 = nth\n",
        "       count += 1"
      ],
      "execution_count": null,
      "outputs": []
    },
    {
      "cell_type": "code",
      "metadata": {
        "id": "r589s-UTlR3j",
        "colab_type": "code",
        "colab": {
          "base_uri": "https://localhost:8080/",
          "height": 187
        },
        "outputId": "18a31b95-eb44-4a91-93fc-9e666e3d37f9"
      },
      "source": [
        "#Python Program for How to check if a given number is Fibonacci number?\n",
        "# python program to check if x is a perfect square \n",
        "import math \n",
        "  \n",
        "# A utility function that returns true if x is perfect square \n",
        "def isPerfectSquare(x): \n",
        "    s = int(math.sqrt(x)) \n",
        "    return s*s == x \n",
        "  \n",
        "# Returns true if n is a Fibinacci Number, else false \n",
        "def isFibonacci(n): \n",
        "  \n",
        "    # n is Fibinacci if one of 5*n*n + 4 or 5*n*n - 4 or both \n",
        "    # is a perferct square \n",
        "    return isPerfectSquare(5*n*n + 4) or isPerfectSquare(5*n*n - 4) \n",
        "     \n",
        "# A utility function to test above functions \n",
        "for i in range(1,11): \n",
        "     if (isFibonacci(i) == True): \n",
        "         print (i,\"is a Fibonacci Number\")\n",
        "     else: \n",
        "         print (i,\"is a not Fibonacci Number \")"
      ],
      "execution_count": 119,
      "outputs": [
        {
          "output_type": "stream",
          "text": [
            "1 is a Fibonacci Number\n",
            "2 is a Fibonacci Number\n",
            "3 is a Fibonacci Number\n",
            "4 is a not Fibonacci Number \n",
            "5 is a Fibonacci Number\n",
            "6 is a not Fibonacci Number \n",
            "7 is a not Fibonacci Number \n",
            "8 is a Fibonacci Number\n",
            "9 is a not Fibonacci Number \n",
            "10 is a not Fibonacci Number \n"
          ],
          "name": "stdout"
        }
      ]
    },
    {
      "cell_type": "code",
      "metadata": {
        "id": "dRKGY1TNlR1k",
        "colab_type": "code",
        "colab": {}
      },
      "source": [
        "#Program to print ASCII Value of a character\n",
        "val = input(\"enter the character\")\n",
        "print(\"The ASCII value of \",val ,\"is\", ord(c))\n"
      ],
      "execution_count": null,
      "outputs": []
    },
    {
      "cell_type": "code",
      "metadata": {
        "id": "WbY_ErhElRuu",
        "colab_type": "code",
        "colab": {
          "base_uri": "https://localhost:8080/",
          "height": 34
        },
        "outputId": "3835948e-af42-4265-baf3-e670d636220e"
      },
      "source": [
        "#Python Program for Sum of squares of first n natural numbers\n",
        "def squaresum(n) : \n",
        "    sum = 0\n",
        "    for i in range(1, n+1) : \n",
        "        sum = sum + (i * i) \n",
        "    return sum \n",
        "print(squaresum(4)) "
      ],
      "execution_count": 128,
      "outputs": [
        {
          "output_type": "stream",
          "text": [
            "30\n"
          ],
          "name": "stdout"
        }
      ]
    },
    {
      "cell_type": "code",
      "metadata": {
        "id": "9Xaps4rxtBZB",
        "colab_type": "code",
        "colab": {
          "base_uri": "https://localhost:8080/",
          "height": 34
        },
        "outputId": "8155e8f0-4b08-40cd-baea-881e8e2433c5"
      },
      "source": [
        "#Python Program for cube sum of first n natural numbers\n",
        "def cube(n) : \n",
        "    sum = 0\n",
        "    for i in range(1, n+1) : \n",
        "        sum = sum + (i * i * i) \n",
        "    return sum \n",
        "print(cube(5)) "
      ],
      "execution_count": 129,
      "outputs": [
        {
          "output_type": "stream",
          "text": [
            "225\n"
          ],
          "name": "stdout"
        }
      ]
    }
  ]
}