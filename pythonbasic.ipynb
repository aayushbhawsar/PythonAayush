{
  "nbformat": 4,
  "nbformat_minor": 0,
  "metadata": {
    "colab": {
      "name": "Untitled0.ipynb",
      "provenance": [],
      "include_colab_link": true
    },
    "kernelspec": {
      "name": "python3",
      "display_name": "Python 3"
    }
  },
  "cells": [
    {
      "cell_type": "markdown",
      "metadata": {
        "id": "view-in-github",
        "colab_type": "text"
      },
      "source": [
        "<a href=\"https://colab.research.google.com/github/aayushbhawsar/PythonAayush/blob/master/pythonbasic.ipynb\" target=\"_parent\"><img src=\"https://colab.research.google.com/assets/colab-badge.svg\" alt=\"Open In Colab\"/></a>"
      ]
    },
    {
      "cell_type": "code",
      "metadata": {
        "id": "-ace5stRofa2",
        "colab_type": "code",
        "colab": {
          "base_uri": "https://localhost:8080/",
          "height": 119
        },
        "outputId": "47bf72af-1cf0-4f8a-f092-10eae89a7acf"
      },
      "source": [
        "student={}\n",
        "n=int(input())\n",
        "for _ in range(n):\n",
        "  Key=input(\"Enter Name\")\n",
        "  value=input(\"Enter percent\")\n",
        "  student[Key]=value\n",
        "\n",
        "print(student)"
      ],
      "execution_count": null,
      "outputs": [
        {
          "output_type": "stream",
          "text": [
            "2\n",
            "Enter NameAayush\n",
            "Enter percent79\n",
            "Enter Nameyyoyo\n",
            "Enter percent89\n",
            "{'Aayush': '79', 'yyoyo': '89'}\n"
          ],
          "name": "stdout"
        }
      ]
    },
    {
      "cell_type": "code",
      "metadata": {
        "id": "S2k9_bjvqNvt",
        "colab_type": "code",
        "colab": {}
      },
      "source": [
        ""
      ],
      "execution_count": null,
      "outputs": []
    },
    {
      "cell_type": "code",
      "metadata": {
        "id": "Te0DWK5a6Y_e",
        "colab_type": "code",
        "colab": {
          "base_uri": "https://localhost:8080/",
          "height": 34
        },
        "outputId": "d7baaa0f-f21d-473a-e9c3-2a3cdbc19fa2"
      },
      "source": [
        "32 % 10\n"
      ],
      "execution_count": null,
      "outputs": [
        {
          "output_type": "execute_result",
          "data": {
            "text/plain": [
              "2"
            ]
          },
          "metadata": {
            "tags": []
          },
          "execution_count": 2
        }
      ]
    },
    {
      "cell_type": "code",
      "metadata": {
        "id": "YGGgqt-U6fnJ",
        "colab_type": "code",
        "colab": {
          "base_uri": "https://localhost:8080/",
          "height": 34
        },
        "outputId": "ae6f835c-b22e-432e-8155-2335a9ef26f3"
      },
      "source": [
        "z = 1 + 3 * 2 - 8 / 4 \n",
        "print(z)"
      ],
      "execution_count": null,
      "outputs": [
        {
          "output_type": "stream",
          "text": [
            "5.0\n"
          ],
          "name": "stdout"
        }
      ]
    },
    {
      "cell_type": "code",
      "metadata": {
        "id": "OEUVLTCP6uVv",
        "colab_type": "code",
        "colab": {
          "base_uri": "https://localhost:8080/",
          "height": 34
        },
        "outputId": "36d390ef-7696-4c09-f86a-94fe807c0e2c"
      },
      "source": [
        "x = int(89.7) \n",
        "print(x)"
      ],
      "execution_count": null,
      "outputs": [
        {
          "output_type": "stream",
          "text": [
            "89\n"
          ],
          "name": "stdout"
        }
      ]
    },
    {
      "cell_type": "code",
      "metadata": {
        "id": "f-Ip7N_E6_7Y",
        "colab_type": "code",
        "colab": {
          "base_uri": "https://localhost:8080/",
          "height": 34
        },
        "outputId": "c85f02b4-e2c8-4dad-fb3e-b28ed0c9d40b"
      },
      "source": [
        " x = 0/1\n",
        " int(89.7)\n",
        " print(x)"
      ],
      "execution_count": null,
      "outputs": [
        {
          "output_type": "stream",
          "text": [
            "0.0\n"
          ],
          "name": "stdout"
        }
      ]
    },
    {
      "cell_type": "code",
      "metadata": {
        "id": "pfzMPDhA9kvn",
        "colab_type": "code",
        "colab": {
          "base_uri": "https://localhost:8080/",
          "height": 68
        },
        "outputId": "a5c0d6fe-7ea7-45ba-f2de-e3954e70202c"
      },
      "source": [
        "Days = input('Enter number of Days')\n",
        "\n",
        "Rate = input('Enter rate per Day')\n",
        "\n",
        "TotalPay = float(Days)*float(Rate)\n",
        "print('Total Pay:', TotalPay) "
      ],
      "execution_count": 23,
      "outputs": [
        {
          "output_type": "stream",
          "text": [
            "Enter number of Days45\n",
            "Enter rate per Day2\n",
            "Total Pay: 90.0\n"
          ],
          "name": "stdout"
        }
      ]
    },
    {
      "cell_type": "code",
      "metadata": {
        "id": "jvhEO9g7GZ-7",
        "colab_type": "code",
        "colab": {
          "base_uri": "https://localhost:8080/",
          "height": 51
        },
        "outputId": "c850d821-8f62-44bc-bb3e-4509dc0de69d"
      },
      "source": [
        "num=float(input(\"Enter the number\"))\n",
        "if num > 0:\n",
        "  print(\"positive number\")\n",
        "elif num < 0:\n",
        "  print(\"negative number\")\n",
        "else:\n",
        "  print(\"zero\")\n",
        "\n",
        "\n",
        "\n"
      ],
      "execution_count": 6,
      "outputs": [
        {
          "output_type": "stream",
          "text": [
            "Enter the number0\n",
            "zero\n"
          ],
          "name": "stdout"
        }
      ]
    },
    {
      "cell_type": "code",
      "metadata": {
        "id": "XoLSeKNjKc_t",
        "colab_type": "code",
        "colab": {
          "base_uri": "https://localhost:8080/",
          "height": 51
        },
        "outputId": "d7d647fb-613c-4643-c0e9-67f30c2a9bf4"
      },
      "source": [
        "#try except\n",
        "num=input(\"Enter a number\")\n",
        "try:\n",
        "  val=int(num)\n",
        "  print (\"conersion successful\")\n",
        "except:\n",
        "  val=-1\n",
        "\n",
        "if val > 0:\n",
        "  print(\"number is \",val)\n",
        "else:\n",
        "  print(\"not a positve number\") "
      ],
      "execution_count": 17,
      "outputs": [
        {
          "output_type": "stream",
          "text": [
            "Enter a numbercvxgfn\n",
            "not a positve number\n"
          ],
          "name": "stdout"
        }
      ]
    },
    {
      "cell_type": "code",
      "metadata": {
        "id": "yrVhKCHbKdqv",
        "colab_type": "code",
        "colab": {
          "base_uri": "https://localhost:8080/",
          "height": 34
        },
        "outputId": "63eca81c-c0fc-4e30-cd73-a0452adbfdc7"
      },
      "source": [
        "#try except\n",
        "#num=input(\"Enter a number\")\n",
        "try:\n",
        "  val=4/2\n",
        "  print (\"division successful\")\n",
        "except:\n",
        "  val=-1\n",
        "\n",
        "if val > 0:\n",
        "  print(\"answer is \",val)\n",
        "else:\n",
        "  print(\"can't divide by zero\") "
      ],
      "execution_count": 15,
      "outputs": [
        {
          "output_type": "stream",
          "text": [
            "can't divide by zero\n"
          ],
          "name": "stdout"
        }
      ]
    },
    {
      "cell_type": "code",
      "metadata": {
        "id": "G7LuJ6KvKd0W",
        "colab_type": "code",
        "colab": {
          "base_uri": "https://localhost:8080/",
          "height": 68
        },
        "outputId": "75feeb35-e68a-4de8-a8d2-0cb32da8a79f"
      },
      "source": [
        "xh = input(\"Enter Days:\")\n",
        "xr = input(\"Enter Rate:\")\n",
        "try:\n",
        "  fh = float(xh)\n",
        "  fr = float(xr)\n",
        "except:\n",
        "  print(\"Error, please enter numeric input\")\n",
        "\n",
        "TotalPay = float(xh)*float(xr)\n",
        "print('Total Pay:', TotalPay) "
      ],
      "execution_count": 31,
      "outputs": [
        {
          "output_type": "stream",
          "text": [
            "Enter Days:56\n",
            "Enter Rate:54354\n",
            "Total Pay: 3043824.0\n"
          ],
          "name": "stdout"
        }
      ]
    },
    {
      "cell_type": "code",
      "metadata": {
        "id": "q6zmQuEPKd7d",
        "colab_type": "code",
        "colab": {}
      },
      "source": [
        ""
      ],
      "execution_count": null,
      "outputs": []
    },
    {
      "cell_type": "code",
      "metadata": {
        "id": "LlIO6fncKd-9",
        "colab_type": "code",
        "colab": {}
      },
      "source": [
        ""
      ],
      "execution_count": null,
      "outputs": []
    },
    {
      "cell_type": "code",
      "metadata": {
        "id": "GOdeja1QKeEf",
        "colab_type": "code",
        "colab": {}
      },
      "source": [
        ""
      ],
      "execution_count": null,
      "outputs": []
    },
    {
      "cell_type": "code",
      "metadata": {
        "id": "oBvKk4bVKeH1",
        "colab_type": "code",
        "colab": {}
      },
      "source": [
        ""
      ],
      "execution_count": null,
      "outputs": []
    },
    {
      "cell_type": "code",
      "metadata": {
        "id": "Qh5iY-GKKeCp",
        "colab_type": "code",
        "colab": {}
      },
      "source": [
        ""
      ],
      "execution_count": null,
      "outputs": []
    }
  ]
}