{
  "nbformat": 4,
  "nbformat_minor": 0,
  "metadata": {
    "colab": {
      "name": "Untitled0.ipynb",
      "provenance": [],
      "include_colab_link": true
    },
    "kernelspec": {
      "name": "python3",
      "display_name": "Python 3"
    }
  },
  "cells": [
    {
      "cell_type": "markdown",
      "metadata": {
        "id": "view-in-github",
        "colab_type": "text"
      },
      "source": [
        "<a href=\"https://colab.research.google.com/github/aayushbhawsar/PythonAayush/blob/master/pythonbasic.ipynb\" target=\"_parent\"><img src=\"https://colab.research.google.com/assets/colab-badge.svg\" alt=\"Open In Colab\"/></a>"
      ]
    },
    {
      "cell_type": "code",
      "metadata": {
        "id": "-ace5stRofa2",
        "colab_type": "code",
        "colab": {
          "base_uri": "https://localhost:8080/",
          "height": 119
        },
        "outputId": "47bf72af-1cf0-4f8a-f092-10eae89a7acf"
      },
      "source": [
        "student={}\n",
        "n=int(input())\n",
        "for _ in range(n):\n",
        "  Key=input(\"Enter Name\")\n",
        "  value=input(\"Enter percent\")\n",
        "  student[Key]=value\n",
        "\n",
        "print(student)"
      ],
      "execution_count": null,
      "outputs": [
        {
          "output_type": "stream",
          "text": [
            "2\n",
            "Enter NameAayush\n",
            "Enter percent79\n",
            "Enter Nameyyoyo\n",
            "Enter percent89\n",
            "{'Aayush': '79', 'yyoyo': '89'}\n"
          ],
          "name": "stdout"
        }
      ]
    },
    {
      "cell_type": "code",
      "metadata": {
        "id": "S2k9_bjvqNvt",
        "colab_type": "code",
        "colab": {}
      },
      "source": [
        ""
      ],
      "execution_count": null,
      "outputs": []
    },
    {
      "cell_type": "code",
      "metadata": {
        "id": "Te0DWK5a6Y_e",
        "colab_type": "code",
        "colab": {
          "base_uri": "https://localhost:8080/",
          "height": 34
        },
        "outputId": "d7baaa0f-f21d-473a-e9c3-2a3cdbc19fa2"
      },
      "source": [
        "32 % 10\n"
      ],
      "execution_count": null,
      "outputs": [
        {
          "output_type": "execute_result",
          "data": {
            "text/plain": [
              "2"
            ]
          },
          "metadata": {
            "tags": []
          },
          "execution_count": 2
        }
      ]
    },
    {
      "cell_type": "code",
      "metadata": {
        "id": "YGGgqt-U6fnJ",
        "colab_type": "code",
        "colab": {
          "base_uri": "https://localhost:8080/",
          "height": 34
        },
        "outputId": "ae6f835c-b22e-432e-8155-2335a9ef26f3"
      },
      "source": [
        "z = 1 + 3 * 2 - 8 / 4 \n",
        "print(z)"
      ],
      "execution_count": null,
      "outputs": [
        {
          "output_type": "stream",
          "text": [
            "5.0\n"
          ],
          "name": "stdout"
        }
      ]
    },
    {
      "cell_type": "code",
      "metadata": {
        "id": "OEUVLTCP6uVv",
        "colab_type": "code",
        "colab": {
          "base_uri": "https://localhost:8080/",
          "height": 34
        },
        "outputId": "36d390ef-7696-4c09-f86a-94fe807c0e2c"
      },
      "source": [
        "x = int(89.7) \n",
        "print(x)"
      ],
      "execution_count": null,
      "outputs": [
        {
          "output_type": "stream",
          "text": [
            "89\n"
          ],
          "name": "stdout"
        }
      ]
    },
    {
      "cell_type": "code",
      "metadata": {
        "id": "f-Ip7N_E6_7Y",
        "colab_type": "code",
        "colab": {
          "base_uri": "https://localhost:8080/",
          "height": 34
        },
        "outputId": "c85f02b4-e2c8-4dad-fb3e-b28ed0c9d40b"
      },
      "source": [
        " x = 0/1\n",
        " int(89.7)\n",
        " print(x)"
      ],
      "execution_count": null,
      "outputs": [
        {
          "output_type": "stream",
          "text": [
            "0.0\n"
          ],
          "name": "stdout"
        }
      ]
    },
    {
      "cell_type": "code",
      "metadata": {
        "id": "pfzMPDhA9kvn",
        "colab_type": "code",
        "colab": {
          "base_uri": "https://localhost:8080/",
          "height": 68
        },
        "outputId": "a5c0d6fe-7ea7-45ba-f2de-e3954e70202c"
      },
      "source": [
        "Days = input('Enter number of Days')\n",
        "\n",
        "Rate = input('Enter rate per Day')\n",
        "\n",
        "TotalPay = float(Days)*float(Rate)\n",
        "print('Total Pay:', TotalPay) "
      ],
      "execution_count": null,
      "outputs": [
        {
          "output_type": "stream",
          "text": [
            "Enter number of Days45\n",
            "Enter rate per Day2\n",
            "Total Pay: 90.0\n"
          ],
          "name": "stdout"
        }
      ]
    },
    {
      "cell_type": "code",
      "metadata": {
        "id": "jvhEO9g7GZ-7",
        "colab_type": "code",
        "colab": {
          "base_uri": "https://localhost:8080/",
          "height": 51
        },
        "outputId": "c850d821-8f62-44bc-bb3e-4509dc0de69d"
      },
      "source": [
        "num=float(input(\"Enter the number\"))\n",
        "if num > 0:\n",
        "  print(\"positive number\")\n",
        "elif num < 0:\n",
        "  print(\"negative number\")\n",
        "else:\n",
        "  print(\"zero\")\n",
        "\n",
        "\n",
        "\n"
      ],
      "execution_count": null,
      "outputs": [
        {
          "output_type": "stream",
          "text": [
            "Enter the number0\n",
            "zero\n"
          ],
          "name": "stdout"
        }
      ]
    },
    {
      "cell_type": "code",
      "metadata": {
        "id": "XoLSeKNjKc_t",
        "colab_type": "code",
        "colab": {
          "base_uri": "https://localhost:8080/",
          "height": 51
        },
        "outputId": "d7d647fb-613c-4643-c0e9-67f30c2a9bf4"
      },
      "source": [
        "#try except\n",
        "num=input(\"Enter a number\")\n",
        "try:\n",
        "  val=int(num)\n",
        "  print (\"conersion successful\")\n",
        "except:\n",
        "  val=-1\n",
        "\n",
        "if val > 0:\n",
        "  print(\"number is \",val)\n",
        "else:\n",
        "  print(\"not a positve number\") "
      ],
      "execution_count": null,
      "outputs": [
        {
          "output_type": "stream",
          "text": [
            "Enter a numbercvxgfn\n",
            "not a positve number\n"
          ],
          "name": "stdout"
        }
      ]
    },
    {
      "cell_type": "code",
      "metadata": {
        "id": "yrVhKCHbKdqv",
        "colab_type": "code",
        "colab": {
          "base_uri": "https://localhost:8080/",
          "height": 34
        },
        "outputId": "63eca81c-c0fc-4e30-cd73-a0452adbfdc7"
      },
      "source": [
        "#try except\n",
        "#num=input(\"Enter a number\")\n",
        "try:\n",
        "  val=4/2\n",
        "  print (\"division successful\")\n",
        "except:\n",
        "  val=-1\n",
        "\n",
        "if val > 0:\n",
        "  print(\"answer is \",val)\n",
        "else:\n",
        "  print(\"can't divide by zero\") "
      ],
      "execution_count": null,
      "outputs": [
        {
          "output_type": "stream",
          "text": [
            "can't divide by zero\n"
          ],
          "name": "stdout"
        }
      ]
    },
    {
      "cell_type": "code",
      "metadata": {
        "id": "G7LuJ6KvKd0W",
        "colab_type": "code",
        "colab": {
          "base_uri": "https://localhost:8080/",
          "height": 68
        },
        "outputId": "75feeb35-e68a-4de8-a8d2-0cb32da8a79f"
      },
      "source": [
        "xh = input(\"Enter Days:\")\n",
        "xr = input(\"Enter Rate:\")\n",
        "try:\n",
        "  fh = float(xh)\n",
        "  fr = float(xr)\n",
        "except:\n",
        "  print(\"Error, please enter numeric input\")\n",
        "\n",
        "TotalPay = float(xh)*float(xr)\n",
        "print('Total Pay:', TotalPay) "
      ],
      "execution_count": null,
      "outputs": [
        {
          "output_type": "stream",
          "text": [
            "Enter Days:56\n",
            "Enter Rate:54354\n",
            "Total Pay: 3043824.0\n"
          ],
          "name": "stdout"
        }
      ]
    },
    {
      "cell_type": "code",
      "metadata": {
        "id": "q6zmQuEPKd7d",
        "colab_type": "code",
        "colab": {}
      },
      "source": [
        ""
      ],
      "execution_count": null,
      "outputs": []
    },
    {
      "cell_type": "code",
      "metadata": {
        "id": "LlIO6fncKd-9",
        "colab_type": "code",
        "colab": {
          "base_uri": "https://localhost:8080/",
          "height": 51
        },
        "outputId": "2d9788fc-71c6-4f77-93f1-4a1ef9f360de"
      },
      "source": [
        "#even and odd using function\n",
        "def evenodd(num):\n",
        "  if num==0:\n",
        "    print(\"Number is zero\")\n",
        "  elif num%2==0:\n",
        "    print(\"Number is even\")\n",
        "  else:\n",
        "      print(\"Number is odd\")\n",
        "\n",
        "evenodd(int(input(\"Enter the number\")))"
      ],
      "execution_count": 51,
      "outputs": [
        {
          "output_type": "stream",
          "text": [
            "Enter the number2\n",
            "Number is even\n"
          ],
          "name": "stdout"
        }
      ]
    },
    {
      "cell_type": "code",
      "metadata": {
        "id": "GOdeja1QKeEf",
        "colab_type": "code",
        "colab": {}
      },
      "source": [
        ""
      ],
      "execution_count": null,
      "outputs": []
    },
    {
      "cell_type": "code",
      "metadata": {
        "id": "oBvKk4bVKeH1",
        "colab_type": "code",
        "colab": {
          "base_uri": "https://localhost:8080/",
          "height": 51
        },
        "outputId": "131f4e30-264d-4b6c-b229-5965efbb6372"
      },
      "source": [
        "#function with return value\n",
        "def greet():\n",
        "  return \"Hello\"\n",
        "print(greet(),\"Aayush\")\n",
        "print(greet(),\"ram\")"
      ],
      "execution_count": 53,
      "outputs": [
        {
          "output_type": "stream",
          "text": [
            "Hello Aayush\n",
            "Hello ram\n"
          ],
          "name": "stdout"
        }
      ]
    },
    {
      "cell_type": "code",
      "metadata": {
        "id": "Qh5iY-GKKeCp",
        "colab_type": "code",
        "colab": {}
      },
      "source": [
        ""
      ],
      "execution_count": null,
      "outputs": []
    },
    {
      "cell_type": "code",
      "metadata": {
        "id": "DtHxfkWkqjd6",
        "colab_type": "code",
        "colab": {
          "base_uri": "https://localhost:8080/",
          "height": 34
        },
        "outputId": "a3eb6fa4-e83a-47de-fc7b-4f9b2236ccac"
      },
      "source": [
        "#function with multiple parameter\n",
        "def add(a,b):\n",
        "  return a+b\n",
        "add(3,3)"
      ],
      "execution_count": 54,
      "outputs": [
        {
          "output_type": "execute_result",
          "data": {
            "text/plain": [
              "6"
            ]
          },
          "metadata": {
            "tags": []
          },
          "execution_count": 54
        }
      ]
    },
    {
      "cell_type": "code",
      "metadata": {
        "id": "QQEBxn5jqjh1",
        "colab_type": "code",
        "colab": {
          "base_uri": "https://localhost:8080/",
          "height": 34
        },
        "outputId": "df167725-5301-4f9a-e9c1-90799b6f9740"
      },
      "source": [
        "def greet():\n",
        "  print (\"Hello\")\n",
        "\n",
        "  return\n",
        "\n",
        "  print (\"Hello1\")\n",
        "\n",
        "greet()\n",
        "\n",
        "\n"
      ],
      "execution_count": 57,
      "outputs": [
        {
          "output_type": "stream",
          "text": [
            "Hello\n"
          ],
          "name": "stdout"
        }
      ]
    },
    {
      "cell_type": "code",
      "metadata": {
        "id": "kQAxQh16qjbE",
        "colab_type": "code",
        "colab": {}
      },
      "source": [
        ""
      ],
      "execution_count": null,
      "outputs": []
    },
    {
      "cell_type": "code",
      "metadata": {
        "id": "TzU5fFkusuCA",
        "colab_type": "code",
        "colab": {
          "base_uri": "https://localhost:8080/",
          "height": 51
        },
        "outputId": "78d3302f-0395-4ac0-91ca-6a0c914609a1"
      },
      "source": [
        "def say(message,time =1):\n",
        "  print(message* time)\n",
        "say(\"aayush\")\n",
        "say(\"good\",5)"
      ],
      "execution_count": 60,
      "outputs": [
        {
          "output_type": "stream",
          "text": [
            "aayush\n",
            "goodgoodgoodgoodgood\n"
          ],
          "name": "stdout"
        }
      ]
    },
    {
      "cell_type": "code",
      "metadata": {
        "id": "9dpBaklrtkF6",
        "colab_type": "code",
        "colab": {}
      },
      "source": [
        ""
      ],
      "execution_count": null,
      "outputs": []
    },
    {
      "cell_type": "code",
      "metadata": {
        "id": "FNzbpyGTtkDf",
        "colab_type": "code",
        "colab": {
          "base_uri": "https://localhost:8080/",
          "height": 34
        },
        "outputId": "caa83d90-bdf8-410b-fb17-addcd8150f27"
      },
      "source": [
        "def computeTotalpay(Days,Rate):\n",
        "  TotalPay = float(Days)*float(Rate)\n",
        "  print('Total Pay:', TotalPay)\n",
        "\n",
        "computeTotalpay(45,10) "
      ],
      "execution_count": 62,
      "outputs": [
        {
          "output_type": "stream",
          "text": [
            "Total Pay: 450.0\n"
          ],
          "name": "stdout"
        }
      ]
    },
    {
      "cell_type": "code",
      "metadata": {
        "id": "N_feoTI8uTFf",
        "colab_type": "code",
        "colab": {}
      },
      "source": [
        "def computepay(hour, rate):\n",
        "    pay = hour * rate\n",
        "    return pay\n",
        "\n",
        "xh = input(\"Enter Hours:\")\n",
        "\n",
        "xr = input(\"Enter Rate:\")\n",
        "\n",
        "\n",
        "try:\n",
        "    fh = float(xh)\n",
        "    fr = float(xr)\n",
        "\n",
        "    print(\"Pay: \",computepay(fh,fr))\n",
        "except:\n",
        "    print(\"Error, please enter numeric input\") "
      ],
      "execution_count": null,
      "outputs": []
    },
    {
      "cell_type": "code",
      "metadata": {
        "id": "uQnDbvKKDxKC",
        "colab_type": "code",
        "colab": {}
      },
      "source": [
        ""
      ],
      "execution_count": null,
      "outputs": []
    },
    {
      "cell_type": "code",
      "metadata": {
        "id": "MAi9S6DjDxiy",
        "colab_type": "code",
        "colab": {}
      },
      "source": [
        "#while loop\n",
        "count=0\n",
        "while (count<=5):\n",
        "  print(\"Aayush\")\n",
        "  count=count+1\n",
        "  \n"
      ],
      "execution_count": null,
      "outputs": []
    },
    {
      "cell_type": "code",
      "metadata": {
        "id": "hQ6cOdHTDxmo",
        "colab_type": "code",
        "colab": {}
      },
      "source": [
        "#break\n",
        "while True:\n",
        "  line=input(\"Enter the data\")\n",
        "  if line == 'done':\n",
        "    break\n",
        "  print(\"line\")\n",
        "print(\"Done!\")"
      ],
      "execution_count": null,
      "outputs": []
    },
    {
      "cell_type": "code",
      "metadata": {
        "id": "60sNbnINDxtI",
        "colab_type": "code",
        "colab": {}
      },
      "source": [
        "#continue\n",
        "while True:\n",
        "  line=input(\"Enter the data\")\n",
        "  if line[0]=='#':\n",
        "    continue\n",
        "  if line == 'done':\n",
        "    break\n",
        "  print(\"line\")\n",
        "print(\"Done!\")"
      ],
      "execution_count": null,
      "outputs": []
    },
    {
      "cell_type": "code",
      "metadata": {
        "id": "Az4V_PfUDyCN",
        "colab_type": "code",
        "colab": {}
      },
      "source": [
        ""
      ],
      "execution_count": null,
      "outputs": []
    },
    {
      "cell_type": "code",
      "metadata": {
        "id": "0sXLCh7kDx-e",
        "colab_type": "code",
        "colab": {
          "base_uri": "https://localhost:8080/",
          "height": 68
        },
        "outputId": "5589e1b3-754c-4bdc-b2b9-f1a63b9238da"
      },
      "source": [
        "#for loop\n",
        "I=[\"aayush\",\"Shadab\",\"aamir\"]\n",
        "for i in I:\n",
        "  print(i)"
      ],
      "execution_count": 81,
      "outputs": [
        {
          "output_type": "stream",
          "text": [
            "aayush\n",
            "Shadab\n",
            "aamir\n"
          ],
          "name": "stdout"
        }
      ]
    },
    {
      "cell_type": "code",
      "metadata": {
        "id": "mf_39pBnDx8_",
        "colab_type": "code",
        "colab": {}
      },
      "source": [
        ""
      ],
      "execution_count": null,
      "outputs": []
    },
    {
      "cell_type": "code",
      "metadata": {
        "id": "DGlTOqGADx65",
        "colab_type": "code",
        "colab": {
          "base_uri": "https://localhost:8080/",
          "height": 34
        },
        "outputId": "e0c35c04-7ad5-4921-d908-f7d2d4ff4519"
      },
      "source": [
        "#find the largest number\n",
        "large = -1\n",
        "I=[1,2,3,4,5,6,7,8,9]\n",
        "for num in I:\n",
        "  if num > large:\n",
        "    large=num\n",
        "print(large)"
      ],
      "execution_count": 95,
      "outputs": [
        {
          "output_type": "stream",
          "text": [
            "9\n"
          ],
          "name": "stdout"
        }
      ]
    },
    {
      "cell_type": "code",
      "metadata": {
        "id": "tgPBaI2yDx5A",
        "colab_type": "code",
        "colab": {
          "base_uri": "https://localhost:8080/",
          "height": 34
        },
        "outputId": "1e385ae5-4c79-4353-b9a0-5073417fa1b4"
      },
      "source": [
        "#count element in th list\n",
        "count= 0\n",
        "I=[1,2,3,4,5,6,7,8,9]\n",
        "for num in I:\n",
        "  count=count+1\n",
        "print(count)"
      ],
      "execution_count": 97,
      "outputs": [
        {
          "output_type": "stream",
          "text": [
            "9\n"
          ],
          "name": "stdout"
        }
      ]
    },
    {
      "cell_type": "code",
      "metadata": {
        "id": "wEIvupmODx2P",
        "colab_type": "code",
        "colab": {
          "base_uri": "https://localhost:8080/",
          "height": 34
        },
        "outputId": "c696b7d8-7252-4ce3-a900-5dd60054be46"
      },
      "source": [
        "#sum the elements in the list\n",
        "count= 0\n",
        "sum=0\n",
        "I=[1,2,3,4,5,6,7,8,9]\n",
        "for num in I:\n",
        "  sum=sum + num\n",
        "  count=count+1\n",
        "print(sum)\n",
        "  "
      ],
      "execution_count": 103,
      "outputs": [
        {
          "output_type": "stream",
          "text": [
            "45\n"
          ],
          "name": "stdout"
        }
      ]
    },
    {
      "cell_type": "code",
      "metadata": {
        "id": "u3k2mXakDxzY",
        "colab_type": "code",
        "colab": {}
      },
      "source": [
        "#Average of the elements in the list\n",
        "count= 0\n",
        "sum=0\n",
        "I=[1,2,3,4,5,6,7,8,9]\n",
        "for num in I:\n",
        "  sum=sum + num\n",
        "  average=sum/len(I)\n",
        "  count=count+1\n",
        "print(sum)\n",
        "print(average)\n",
        "  \n"
      ],
      "execution_count": null,
      "outputs": []
    },
    {
      "cell_type": "code",
      "metadata": {
        "id": "zY3SfJaQDxrk",
        "colab_type": "code",
        "colab": {}
      },
      "source": [
        "#filtering in a loop\n",
        "I=[1,2,3,4,5,6,7,8,9]\n",
        "for num in I:\n",
        "  if num>5:\n",
        "    print(num)"
      ],
      "execution_count": null,
      "outputs": []
    },
    {
      "cell_type": "code",
      "metadata": {
        "id": "S5Kr1gYiVj5D",
        "colab_type": "code",
        "colab": {}
      },
      "source": [
        "#searching in a loop\n",
        "I=[1,2,3,4,5,6,7,8,9]\n",
        "for num in I:\n",
        "  if num==5:\n",
        "    print(\"found\")\n",
        "  else:\n",
        "      print(\"not found\")"
      ],
      "execution_count": null,
      "outputs": []
    },
    {
      "cell_type": "code",
      "metadata": {
        "id": "kClK9UROW31l",
        "colab_type": "code",
        "colab": {
          "base_uri": "https://localhost:8080/",
          "height": 34
        },
        "outputId": "fa736cfb-e269-49e0-c292-0a80472e36d9"
      },
      "source": [
        "#finding the smallest value\n",
        "small=None\n",
        "I=[1,2,3,4,5,6,7,8,9]\n",
        "for num in I:\n",
        "  if small==None:\n",
        "    small=num\n",
        "  elif num < small:\n",
        "    small=num\n",
        "print(small)"
      ],
      "execution_count": 137,
      "outputs": [
        {
          "output_type": "stream",
          "text": [
            "1\n"
          ],
          "name": "stdout"
        }
      ]
    },
    {
      "cell_type": "code",
      "metadata": {
        "id": "1XcLkqqHVkB4",
        "colab_type": "code",
        "colab": {
          "base_uri": "https://localhost:8080/",
          "height": 119
        },
        "outputId": "bc63ae13-d3e6-48c1-ca53-974c525c3fa4"
      },
      "source": [
        "#Write a program which repeatedly reads numbers until the user enters \"exit\". Once \"exit\" is entered, print out the sum, count, and average of the numbers. If the user enters anything other than a number, detect their mistake using try and except and print an error message and skip to the next number. Enter a number: 4 Enter a number: 5 Enter a number: bad data Invalid input Enter a number: exit 9.0 2 4.5\n",
        "\n",
        "sum=0\n",
        "count=0 \n",
        "while True: \n",
        "  num=input('Enter Number: ') \n",
        "  if num=='exit': \n",
        "    break \n",
        "  try: \n",
        "    x=float(num) \n",
        "  except: \n",
        "    print('Data Invalid Input')\n",
        "    continue\n",
        "  count=count+1\n",
        "  sum=sum+x  \n",
        "print('Sum= ',sum) \n",
        "print('Count= ',count) \n",
        "print('Average= ',sum/count)\n",
        "\n"
      ],
      "execution_count": 163,
      "outputs": [
        {
          "output_type": "stream",
          "text": [
            "Enter Number: 2\n",
            "Enter Number: 3\n",
            "Enter Number: exit\n",
            "Sum=  5.0\n",
            "Count=  2\n",
            "Average=  2.5\n"
          ],
          "name": "stdout"
        }
      ]
    },
    {
      "cell_type": "code",
      "metadata": {
        "id": "a1IIwjR1VkAO",
        "colab_type": "code",
        "colab": {}
      },
      "source": [
        ""
      ],
      "execution_count": 143,
      "outputs": []
    },
    {
      "cell_type": "code",
      "metadata": {
        "id": "AxtwlMgpVj94",
        "colab_type": "code",
        "colab": {}
      },
      "source": [
        ""
      ],
      "execution_count": null,
      "outputs": []
    },
    {
      "cell_type": "code",
      "metadata": {
        "id": "RdGyZwX_Vj24",
        "colab_type": "code",
        "colab": {}
      },
      "source": [
        ""
      ],
      "execution_count": null,
      "outputs": []
    },
    {
      "cell_type": "code",
      "metadata": {
        "id": "r77xOEMdVj0O",
        "colab_type": "code",
        "colab": {}
      },
      "source": [
        ""
      ],
      "execution_count": null,
      "outputs": []
    },
    {
      "cell_type": "code",
      "metadata": {
        "id": "gx5sXcf7VjxN",
        "colab_type": "code",
        "colab": {}
      },
      "source": [
        ""
      ],
      "execution_count": null,
      "outputs": []
    },
    {
      "cell_type": "code",
      "metadata": {
        "id": "xQk1VAnFVju4",
        "colab_type": "code",
        "colab": {}
      },
      "source": [
        ""
      ],
      "execution_count": null,
      "outputs": []
    },
    {
      "cell_type": "code",
      "metadata": {
        "id": "MIGqu6kSVjr8",
        "colab_type": "code",
        "colab": {}
      },
      "source": [
        ""
      ],
      "execution_count": null,
      "outputs": []
    }
  ]
}