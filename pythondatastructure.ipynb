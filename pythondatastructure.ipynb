{
  "nbformat": 4,
  "nbformat_minor": 0,
  "metadata": {
    "colab": {
      "name": "Untitled0.ipynb",
      "provenance": [],
      "authorship_tag": "ABX9TyNFubvrZEh+3NLSPMVG0cUY",
      "include_colab_link": true
    },
    "kernelspec": {
      "name": "python3",
      "display_name": "Python 3"
    }
  },
  "cells": [
    {
      "cell_type": "markdown",
      "metadata": {
        "id": "view-in-github",
        "colab_type": "text"
      },
      "source": [
        "<a href=\"https://colab.research.google.com/github/aayushbhawsar/PythonAayush/blob/master/pythondatastructure.ipynb\" target=\"_parent\"><img src=\"https://colab.research.google.com/assets/colab-badge.svg\" alt=\"Open In Colab\"/></a>"
      ]
    },
    {
      "cell_type": "code",
      "metadata": {
        "id": "qgoER5VSdblF",
        "colab_type": "code",
        "colab": {}
      },
      "source": [
        "s= 'string'\n",
        "print(len(s))\n",
        "print(s[0])"
      ],
      "execution_count": null,
      "outputs": []
    },
    {
      "cell_type": "code",
      "metadata": {
        "id": "W5LGtPs3ene2",
        "colab_type": "code",
        "colab": {}
      },
      "source": [
        "#looping through string\n",
        "name=\"Aayush is a good  boy\"\n",
        "for element in name:\n",
        "  print(element)"
      ],
      "execution_count": null,
      "outputs": []
    },
    {
      "cell_type": "code",
      "metadata": {
        "id": "_A8gyugNenk9",
        "colab_type": "code",
        "colab": {}
      },
      "source": [
        "#looping through string\n",
        "name=\"Aayush is a good  boy\"\n",
        "for element in range(0,len(name)):\n",
        "  print(element)"
      ],
      "execution_count": null,
      "outputs": []
    },
    {
      "cell_type": "code",
      "metadata": {
        "id": "5Ld0f7l9enp_",
        "colab_type": "code",
        "colab": {}
      },
      "source": [
        "#looping through string\n",
        "name=\"Aayush is a good  boy\"\n",
        "for element in range(3,len(name)):\n",
        "  print(name[element])"
      ],
      "execution_count": null,
      "outputs": []
    },
    {
      "cell_type": "code",
      "metadata": {
        "id": "OFBwTwGzentD",
        "colab_type": "code",
        "colab": {}
      },
      "source": [
        "#counting while looping\n",
        "name=\"aayush\"\n",
        "count=0\n",
        "for letter in name:\n",
        "  if letter == 'a':\n",
        "    count=count+1\n",
        "print(count)"
      ],
      "execution_count": null,
      "outputs": []
    },
    {
      "cell_type": "code",
      "metadata": {
        "id": "4JZ-ibxaen6s",
        "colab_type": "code",
        "colab": {}
      },
      "source": [
        "#string slicing\n",
        "#string[startposition:endposotion:step]\n",
        "name=\"aayush\"\n",
        "val=name[0:6:2]\n",
        "print(val)"
      ],
      "execution_count": null,
      "outputs": []
    },
    {
      "cell_type": "code",
      "metadata": {
        "id": "J8dTqFf5eoDf",
        "colab_type": "code",
        "colab": {}
      },
      "source": [
        "#reversing the string\n",
        "name=\"aayush\"\n",
        "val=name[::-1]\n",
        "print(val)"
      ],
      "execution_count": null,
      "outputs": []
    },
    {
      "cell_type": "code",
      "metadata": {
        "id": "f2GySKeEeoG4",
        "colab_type": "code",
        "colab": {}
      },
      "source": [
        "#using in as a logical operator\n",
        "name=\"aayush\"\n",
        "'aay' in name"
      ],
      "execution_count": null,
      "outputs": []
    },
    {
      "cell_type": "code",
      "metadata": {
        "id": "n4AJ6PoOeoJ6",
        "colab_type": "code",
        "colab": {}
      },
      "source": [
        "#STRIPPING WHITESPACE\n",
        "name=\"       aayushbhawsar       \"\n",
        "print(name)\n",
        "print(name.rstrip())\n",
        "print(name.lstrip())\n",
        "print(name.strip())"
      ],
      "execution_count": null,
      "outputs": []
    },
    {
      "cell_type": "code",
      "metadata": {
        "id": "5-lijdy1eoP9",
        "colab_type": "code",
        "colab": {}
      },
      "source": [
        "#PARSING & EXTRACTING\n",
        "email=\"aayushbhawsar15@gmail.com\"\n",
        "firstpos=email.find('b')\n",
        "print(firstpos)\n",
        "secondpos=email.find('1')\n",
        "print(secondpos)\n",
        "print(email[firstpos:secondpos])"
      ],
      "execution_count": null,
      "outputs": []
    },
    {
      "cell_type": "code",
      "metadata": {
        "id": "2myuaB5YeoVO",
        "colab_type": "code",
        "colab": {}
      },
      "source": [
        "#Take the following Python code that stores a string:`str = 'Perfect-Plan-B:0.7541' Use find and string slicing to extract the portion of the string after the colon character and then use the float function to convert the extracted string into a floating point number. *\n",
        "\n",
        "str ='Perfect-Plan-B:0.7541'\n",
        "pos = str.find(':')\n",
        "number = str[(pos+1):]\n",
        "print(number)\n",
        "floatnum=float(number)\n",
        "type(floatnum)\n",
        "\n",
        "#or\n",
        "\n",
        "\n",
        "\n",
        "# String='X-DSPAM-confidence :0.8475' \n",
        "# print(float(String[String.index(\":\")+1:]))"
      ],
      "execution_count": null,
      "outputs": []
    },
    {
      "cell_type": "code",
      "metadata": {
        "id": "4Hy_RRJ8eoY4",
        "colab_type": "code",
        "colab": {}
      },
      "source": [
        "#file\n",
        "f=open('https://colab.research.google.com/notebooks/io.ipynb','a')\n",
        "for data in f:\n",
        "  print(data)"
      ],
      "execution_count": null,
      "outputs": []
    },
    {
      "cell_type": "code",
      "metadata": {
        "id": "4ir0AeHUeogT",
        "colab_type": "code",
        "colab": {}
      },
      "source": [
        ""
      ],
      "execution_count": null,
      "outputs": []
    },
    {
      "cell_type": "code",
      "metadata": {
        "id": "321WOl-_eoje",
        "colab_type": "code",
        "colab": {}
      },
      "source": [
        ""
      ],
      "execution_count": null,
      "outputs": []
    },
    {
      "cell_type": "code",
      "metadata": {
        "id": "VloDyYcyeooT",
        "colab_type": "code",
        "colab": {}
      },
      "source": [
        ""
      ],
      "execution_count": null,
      "outputs": []
    },
    {
      "cell_type": "code",
      "metadata": {
        "id": "_7oM9JJfeouJ",
        "colab_type": "code",
        "colab": {}
      },
      "source": [
        ""
      ],
      "execution_count": null,
      "outputs": []
    },
    {
      "cell_type": "code",
      "metadata": {
        "id": "l2FZfWIUeozm",
        "colab_type": "code",
        "colab": {}
      },
      "source": [
        ""
      ],
      "execution_count": null,
      "outputs": []
    },
    {
      "cell_type": "code",
      "metadata": {
        "id": "jlvj-gkReo22",
        "colab_type": "code",
        "colab": {}
      },
      "source": [
        ""
      ],
      "execution_count": null,
      "outputs": []
    },
    {
      "cell_type": "code",
      "metadata": {
        "id": "PdJ9K6H1eo76",
        "colab_type": "code",
        "colab": {}
      },
      "source": [
        ""
      ],
      "execution_count": null,
      "outputs": []
    },
    {
      "cell_type": "code",
      "metadata": {
        "id": "YikWsGNEepBP",
        "colab_type": "code",
        "colab": {}
      },
      "source": [
        ""
      ],
      "execution_count": null,
      "outputs": []
    },
    {
      "cell_type": "code",
      "metadata": {
        "id": "bh9lwieXeo_u",
        "colab_type": "code",
        "colab": {}
      },
      "source": [
        ""
      ],
      "execution_count": null,
      "outputs": []
    },
    {
      "cell_type": "code",
      "metadata": {
        "id": "1xs8RROJeo6V",
        "colab_type": "code",
        "colab": {}
      },
      "source": [
        ""
      ],
      "execution_count": null,
      "outputs": []
    },
    {
      "cell_type": "code",
      "metadata": {
        "id": "jLIVIEd4eox2",
        "colab_type": "code",
        "colab": {}
      },
      "source": [
        ""
      ],
      "execution_count": null,
      "outputs": []
    },
    {
      "cell_type": "code",
      "metadata": {
        "id": "mI1RLuPjeosT",
        "colab_type": "code",
        "colab": {}
      },
      "source": [
        ""
      ],
      "execution_count": null,
      "outputs": []
    },
    {
      "cell_type": "code",
      "metadata": {
        "id": "d5WI_h_Ceomq",
        "colab_type": "code",
        "colab": {}
      },
      "source": [
        ""
      ],
      "execution_count": null,
      "outputs": []
    },
    {
      "cell_type": "code",
      "metadata": {
        "id": "aHeY1Ft7eoTv",
        "colab_type": "code",
        "colab": {}
      },
      "source": [
        ""
      ],
      "execution_count": null,
      "outputs": []
    },
    {
      "cell_type": "code",
      "metadata": {
        "id": "AX4AaeIweoNe",
        "colab_type": "code",
        "colab": {}
      },
      "source": [
        ""
      ],
      "execution_count": null,
      "outputs": []
    },
    {
      "cell_type": "code",
      "metadata": {
        "id": "0es1ZMIjen4O",
        "colab_type": "code",
        "colab": {}
      },
      "source": [
        ""
      ],
      "execution_count": null,
      "outputs": []
    },
    {
      "cell_type": "code",
      "metadata": {
        "id": "LvKGU0nWen16",
        "colab_type": "code",
        "colab": {}
      },
      "source": [
        ""
      ],
      "execution_count": null,
      "outputs": []
    },
    {
      "cell_type": "code",
      "metadata": {
        "id": "hj-0DXWXenzJ",
        "colab_type": "code",
        "colab": {}
      },
      "source": [
        ""
      ],
      "execution_count": null,
      "outputs": []
    },
    {
      "cell_type": "code",
      "metadata": {
        "id": "OoFcNgqCenwh",
        "colab_type": "code",
        "colab": {}
      },
      "source": [
        ""
      ],
      "execution_count": null,
      "outputs": []
    }
  ]
}